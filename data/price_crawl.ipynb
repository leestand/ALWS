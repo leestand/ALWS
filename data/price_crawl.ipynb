import pandas as pd
import requests
import time
import random

USER_AGENTS = [
    "Mozilla/5.0 (Windows NT 10.0; Win64; x64) AppleWebKit/537.36 (KHTML, like Gecko) Chrome/120.0.0.0 Safari/537.36",
    "Mozilla/5.0 (Windows NT 10.0; Win64; x64) AppleWebKit/537.36 (KHTML, like Gecko) Chrome/115.0.0.0 Safari/537.36",
    "Mozilla/5.0 (Macintosh; Intel Mac OS X 10_15_7) AppleWebKit/537.36 (KHTML, like Gecko) Chrome/118.0.0.0 Safari/537.36",
    "Mozilla/5.0 (Windows NT 10.0; Win64; x64; rv:102.0) Gecko/20100101 Firefox/102.0",
    "Mozilla/5.0 (Macintosh; Intel Mac OS X 10_15_7) AppleWebKit/537.36 (KHTML, like Gecko) Version/15.6 Safari/537.36",
    "Mozilla/5.0 (Windows NT 10.0; Win64; x64; rv:109.0) Gecko/20100101 Firefox/109.0",
    "Mozilla/5.0 (Macintosh; Intel Mac OS X 11_0_0) AppleWebKit/537.36 (KHTML, like Gecko) Version/14.0.1 Safari/537.36",
    "Mozilla/5.0 (Windows NT 10.0; Win64; x64) AppleWebKit/537.36 (KHTML, like Gecko) Edge/120.0.0.0",
]

gwangjin = pd.read_csv('C:\\Users\\crown\\Desktop\\광진구 음식점 인허가 정보.csv')

ga = gwangjin[(gwangjin['SITEWHLADDR'].str.contains('광진구')) | (gwangjin['RDNWHLADDR'].str.contains('광진구'))]
g = ga[ga['TRDSTATENM'].str.contains('영업')]

restaurant_list = list(g['BPLCNM'])

base_url = "https://map.naver.com/p/api/search/allSearch"

all_data = []
request_count = 0 

for name in restaurant_list:
    headers = {
        "User-Agent": random.choice(USER_AGENTS),
        "Referer": "https://map.naver.com"
    }

    url = f"{base_url}?query={name}&type=all&searchCoord=127.09343900302565%3B37.548116747602194&boundary="
    
    try:
        response = requests.get(url, headers=headers)

        if response.status_code == 503:
            print(f"[WARNING] {name}: 503 오류 발생, 60초 대기 후 재시도")
            time.sleep(60)
            headers["User-Agent"] = random.choice(USER_AGENTS)  # User-Agent 다시 변경
            response = requests.get(url, headers=headers)  # 재시도
            if response.status_code == 503:
                print(f"[ERROR] {name}: 2차 재시도 실패, 스킵")
                continue

        if response.status_code != 200:
            print(f"[WARNING] {name}: 요청 실패 (Status Code: {response.status_code})")
            continue
        
        # JSON 응답에서 식당 리스트 추출
        result = response.json().get("result", {}).get("place", {}).get("list", [])

        if not result:
            print(f"[INFO] {name}: 검색 결과 없음")
            continue

        for place in result:
            all_data.append({
                "name": place.get("name"),
                "category": place.get("category"),
                "categoryPath": place.get("categoryPath"),
                "rcode": place.get("rcode"),
                "address": place.get("address"),
                "roadAddress": place.get("roadAddress"),
                "reviewCount": place.get("reviewCount"),
                "placeReviewCount": place.get("placeReviewCount"),
                "x": place.get("x"),
                "y": place.get("y"),
                "menuInfo": place.get("menuInfo"),
                "microReview": place.get("microReview")
            })

        print(f"[SUCCESS] {name}: 데이터 수집 완료")

    except Exception as e:
        print(f"[ERROR] {name}: 요청 중 오류 발생 - {e}")

    request_count += 1

    if request_count % 5 == 0:
        print("[INFO] 5개 요청 완료, 30초 대기 중...")
        time.sleep(30)
    else:
        wait_time = random.randint(3, 6)
        print(f"[INFO] 다음 요청까지 {wait_time}초 대기...")
        time.sleep(wait_time)


df = pd.DataFrame(all_data)
df.to_csv('C:\\Users\\crown\\Desktop\\가격크롤링2.csv', index=False)

print("[INFO] 데이터 저장 완료: 가격크롤링.csv")
